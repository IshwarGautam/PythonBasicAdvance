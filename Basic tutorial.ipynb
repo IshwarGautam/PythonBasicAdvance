{
 "cells": [
  {
   "cell_type": "markdown",
   "metadata": {},
   "source": [
    "# \"Hello world\" using python"
   ]
  },
  {
   "cell_type": "code",
   "execution_count": 1,
   "metadata": {},
   "outputs": [
    {
     "name": "stdout",
     "output_type": "stream",
     "text": [
      "Hello world\n",
      "My name is Ishwar Gautam. I am from Butwal. I am studying bsc CSIT in 7th sem......\n"
     ]
    }
   ],
   "source": [
    "print(\"Hello world\")\n",
    "print(\"My name is Ishwar Gautam. I am from Butwal. I am studying bsc CSIT in 7th sem......\")"
   ]
  },
  {
   "cell_type": "markdown",
   "metadata": {},
   "source": [
    "# Lines and indentation"
   ]
  },
  {
   "cell_type": "code",
   "execution_count": 2,
   "metadata": {},
   "outputs": [
    {
     "name": "stdout",
     "output_type": "stream",
     "text": [
      "True\n"
     ]
    }
   ],
   "source": [
    "x=5\n",
    "if x==5:\n",
    "    print (True)\n",
    "else:\n",
    "    print (False)\n",
    "\n",
    "#if x==7:\n",
    "#print (false) //generate error bcz there is no any indentation"
   ]
  },
  {
   "cell_type": "markdown",
   "metadata": {},
   "source": [
    "# Multi-line statements"
   ]
  },
  {
   "cell_type": "code",
   "execution_count": 3,
   "metadata": {},
   "outputs": [
    {
     "data": {
      "text/plain": [
       "20"
      ]
     },
     "execution_count": 3,
     "metadata": {},
     "output_type": "execute_result"
    }
   ],
   "source": [
    "x=5\n",
    "y=7\n",
    "z=8\n",
    "total = x + \\\n",
    "        y + \\\n",
    "        z \n",
    "total"
   ]
  },
  {
   "cell_type": "markdown",
   "metadata": {},
   "source": [
    "# Quotation in python"
   ]
  },
  {
   "cell_type": "code",
   "execution_count": 4,
   "metadata": {},
   "outputs": [
    {
     "name": "stdout",
     "output_type": "stream",
     "text": [
      "Ishwar\n",
      "My name is Ishwar Gautam.\n",
      "My name is Ishwar Gautam.\n",
      "I love programming\n"
     ]
    }
   ],
   "source": [
    "word = 'Ishwar'\n",
    "sentence = \"My name is Ishwar Gautam.\"\n",
    "paragraph = \"\"\"My name is Ishwar Gautam.\n",
    "I love programming\"\"\"\n",
    "print(word)\n",
    "print(sentence)\n",
    "print(paragraph)"
   ]
  },
  {
   "cell_type": "markdown",
   "metadata": {},
   "source": [
    "# comments in python"
   ]
  },
  {
   "cell_type": "code",
   "execution_count": 5,
   "metadata": {},
   "outputs": [],
   "source": [
    "#This is comment"
   ]
  },
  {
   "cell_type": "code",
   "execution_count": 6,
   "metadata": {},
   "outputs": [
    {
     "data": {
      "text/plain": [
       "'\\nThis is multiline comments\\n'"
      ]
     },
     "execution_count": 6,
     "metadata": {},
     "output_type": "execute_result"
    }
   ],
   "source": [
    "'''\n",
    "This is multiline comments\n",
    "'''"
   ]
  },
  {
   "cell_type": "markdown",
   "metadata": {},
   "source": [
    "# User input"
   ]
  },
  {
   "cell_type": "code",
   "execution_count": 7,
   "metadata": {},
   "outputs": [
    {
     "name": "stdout",
     "output_type": "stream",
     "text": [
      "\n",
      "\n",
      "Press the enter key to exit.\n"
     ]
    },
    {
     "data": {
      "text/plain": [
       "''"
      ]
     },
     "execution_count": 7,
     "metadata": {},
     "output_type": "execute_result"
    }
   ],
   "source": [
    "input(\"\\n\\nPress the enter key to exit.\")"
   ]
  },
  {
   "cell_type": "markdown",
   "metadata": {},
   "source": [
    "# Assigning values to variables"
   ]
  },
  {
   "cell_type": "code",
   "execution_count": 8,
   "metadata": {},
   "outputs": [
    {
     "name": "stdout",
     "output_type": "stream",
     "text": [
      "100\n",
      "1000.0\n",
      "Ishwar\n"
     ]
    }
   ],
   "source": [
    "int_num = 100          # An integer assignment\n",
    "float_num   = 1000.0       # A floating point\n",
    "name    = \"Ishwar\"       # A string\n",
    "\n",
    "print (int_num)\n",
    "print (float_num)\n",
    "print (name)"
   ]
  },
  {
   "cell_type": "markdown",
   "metadata": {},
   "source": [
    "# Multiple assignment"
   ]
  },
  {
   "cell_type": "code",
   "execution_count": 9,
   "metadata": {},
   "outputs": [
    {
     "name": "stdout",
     "output_type": "stream",
     "text": [
      "4\n",
      "Ishwar Gautam\n"
     ]
    }
   ],
   "source": [
    "a = b = c = 1\n",
    "d,e,f = 1, \"Ishwar\", \"Gautam\"\n",
    "print(a+b+c+d)\n",
    "print(e+\" \"+f)"
   ]
  },
  {
   "cell_type": "markdown",
   "metadata": {},
   "source": [
    "# deleting variables"
   ]
  },
  {
   "cell_type": "code",
   "execution_count": 10,
   "metadata": {},
   "outputs": [
    {
     "name": "stdout",
     "output_type": "stream",
     "text": [
      "3\n",
      "5\n",
      "successfully deleting value of m and n\n"
     ]
    }
   ],
   "source": [
    "m=3\n",
    "n=5\n",
    "print(m)\n",
    "print(n)\n",
    "del m,n\n",
    "print(\"successfully deleting value of m and n\")\n",
    "#print(m)    output-->name m is not defined\n",
    "#print(n)    output-->name n is not defined"
   ]
  },
  {
   "cell_type": "markdown",
   "metadata": {},
   "source": [
    "# python strings"
   ]
  },
  {
   "cell_type": "code",
   "execution_count": 11,
   "metadata": {},
   "outputs": [
    {
     "name": "stdout",
     "output_type": "stream",
     "text": [
      "Ishwar Gautam\n",
      "I\n",
      "hwa\n",
      "hwar Gautam\n",
      "Ishwar GautamIshwar Gautam\n",
      "Ishwar Gautam Programmer\n"
     ]
    }
   ],
   "source": [
    "string = 'Ishwar Gautam'\n",
    "\n",
    "print (string)          # Prints complete stringing\n",
    "print (string[0])       # Prints first character of the stringing\n",
    "print (string[2:5])     # Prints characters starting from 3rd to 5th\n",
    "#This is called slicing\n",
    "print (string[2:])      # Prints stringing starting from 3rd character\n",
    "print (string * 2)      # Prints stringing two times\n",
    "print (string + \" Programmer\") # Prints concatenated stringing"
   ]
  },
  {
   "cell_type": "markdown",
   "metadata": {},
   "source": [
    "# Python list"
   ]
  },
  {
   "cell_type": "code",
   "execution_count": 12,
   "metadata": {},
   "outputs": [
    {
     "name": "stdout",
     "output_type": "stream",
     "text": [
      "['Ishwar', 686, 7.23, 'Gautam', 90.9]\n",
      "Ishwar\n",
      "[686, 7.23]\n",
      "[7.23, 'Gautam', 90.9]\n",
      "[123, 'Gautam', 123, 'Gautam']\n",
      "['Ishwar', 686, 7.23, 'Gautam', 90.9, 123, 'Gautam']\n"
     ]
    }
   ],
   "source": [
    "list1 = [ 'Ishwar', 686 , 7.23, 'Gautam', 90.9 ]\n",
    "list2 = [123, 'Gautam']\n",
    "\n",
    "print (list1)          # Prints complete list of list1\n",
    "print (list1[0])       # Prints first element of the list1\n",
    "print (list1[1:3])     # Prints elements starting from 2nd till 3rd \n",
    "print (list1[2:])      # Prints elements starting from 3rd element\n",
    "print (list2 * 2)      # Prints list2 two times\n",
    "print (list1 + list2) # Prints concatenated lists"
   ]
  },
  {
   "cell_type": "markdown",
   "metadata": {},
   "source": [
    "# Python tuple"
   ]
  },
  {
   "cell_type": "code",
   "execution_count": 13,
   "metadata": {},
   "outputs": [
    {
     "name": "stdout",
     "output_type": "stream",
     "text": [
      "('Ishwar', 686, 7.23, 'Gautam', 90.9)\n",
      "Ishwar\n",
      "(686, 7.23)\n",
      "(7.23, 'Gautam', 90.9)\n",
      "(123, 'Gautam', 123, 'Gautam')\n",
      "('Ishwar', 686, 7.23, 'Gautam', 90.9, 123, 'Gautam')\n"
     ]
    }
   ],
   "source": [
    "tuple1 = ( 'Ishwar', 686 , 7.23, 'Gautam', 90.9 )\n",
    "tuple2 = (123, 'Gautam')\n",
    "\n",
    "print (tuple1)          # Prints complete tuple of tuple1\n",
    "print (tuple1[0])       # Prints first element of the tuple1\n",
    "print (tuple1[1:3])     # Prints elements starting from 2nd till 3rd \n",
    "print (tuple1[2:])      # Prints elements starting from 3rd element\n",
    "print (tuple2 * 2)      # Prints tuple2 two times\n",
    "print (tuple1 + tuple2) # Prints concatenated tuples"
   ]
  },
  {
   "cell_type": "markdown",
   "metadata": {},
   "source": [
    "# Tuple and list both"
   ]
  },
  {
   "cell_type": "code",
   "execution_count": 14,
   "metadata": {},
   "outputs": [
    {
     "name": "stdout",
     "output_type": "stream",
     "text": [
      "['Ishwar', 686, 1000, 'Gautam', 90.9]\n"
     ]
    }
   ],
   "source": [
    "tuple = ( 'Ishwar', 686 , 7.23, 'Gautam', 90.9 )\n",
    "list = [ 'Ishwar', 686 , 7.23, 'Gautam', 90.9 ]\n",
    "#tuple[2] = 1000    # Invalid syntax with tuple\n",
    "list[2] = 1000     # Valid syntax with list\n",
    "print(list)"
   ]
  },
  {
   "cell_type": "markdown",
   "metadata": {},
   "source": [
    "# Python dictionary"
   ]
  },
  {
   "cell_type": "code",
   "execution_count": 15,
   "metadata": {},
   "outputs": [
    {
     "name": "stdout",
     "output_type": "stream",
     "text": [
      "{'one': 'This is one', 2: 'This is two'}\n",
      "This is one\n",
      "This is two\n",
      "{'name': 'Ishwar', 'code': 239, 'dept': 'sales'}\n",
      "dict_keys(['name', 'code', 'dept'])\n",
      "dict_values(['Ishwar', 239, 'sales'])\n"
     ]
    }
   ],
   "source": [
    "dict = {}\n",
    "dict['one'] = \"This is one\"\n",
    "dict[2]     = \"This is two\"\n",
    "\n",
    "dict2 = {'name': 'Ishwar','code':239, 'dept': 'sales'} #key:value pair\n",
    "\n",
    "print (dict)              # Prints dict\n",
    "print (dict['one'])       # Prints value for 'one' key\n",
    "print (dict[2])           # Prints value for 2 key\n",
    "print (dict2)          # Prints complete dictionary\n",
    "print (dict2.keys())   # Prints all the keys\n",
    "print (dict2.values()) # Prints all the values"
   ]
  },
  {
   "cell_type": "markdown",
   "metadata": {},
   "source": [
    "# Python basic operation"
   ]
  },
  {
   "cell_type": "markdown",
   "metadata": {},
   "source": [
    "### 1. Python arithmetic operation"
   ]
  },
  {
   "cell_type": "code",
   "execution_count": 16,
   "metadata": {},
   "outputs": [
    {
     "name": "stdout",
     "output_type": "stream",
     "text": [
      "7\n",
      "3\n",
      "10\n",
      "2.5\n",
      "1\n",
      "25\n",
      "2\n"
     ]
    }
   ],
   "source": [
    "a = 5\n",
    "b = 2\n",
    "\n",
    "add = a + b\n",
    "sub = a - b\n",
    "mul = a * b\n",
    "div1 = a / b \n",
    "mod = a % b\n",
    "exp = a**b \n",
    "div2 = a//b #decimal point are discarded\n",
    "\n",
    "print(add)\n",
    "print(sub)\n",
    "print(mul)\n",
    "print(div1)\n",
    "print(mod)\n",
    "print(exp)\n",
    "print(div2)"
   ]
  },
  {
   "cell_type": "markdown",
   "metadata": {},
   "source": [
    "### 2. Python comparison operation"
   ]
  },
  {
   "cell_type": "code",
   "execution_count": 17,
   "metadata": {},
   "outputs": [
    {
     "name": "stdout",
     "output_type": "stream",
     "text": [
      "a is not equal to b\n",
      "a is not equal to b\n",
      "a is not less than b\n",
      "a is greater than b\n",
      "a is neither less than nor equal to  b\n",
      "b is neither greater than  nor equal to b\n"
     ]
    }
   ],
   "source": [
    "a = 78\n",
    "b = 20\n",
    "\n",
    "if ( a == b ):\n",
    "    print (\"a is equal to b\")\n",
    "else:\n",
    "    print (\"a is not equal to b\")\n",
    "\n",
    "if ( a != b ):\n",
    "    print (\"a is not equal to b\")\n",
    "else:\n",
    "    print (\"a is equal to b\")\n",
    "\n",
    "if ( a < b ):\n",
    "    print (\"a is less than b\") \n",
    "else:\n",
    "    print (\"a is not less than b\")\n",
    "\n",
    "if ( a > b ):\n",
    "    print (\"a is greater than b\")\n",
    "else:\n",
    "    print (\"a is not greater than b\")\n",
    "\n",
    "if ( a <= b ):\n",
    "    print (\"a is either less than or equal to  b\")\n",
    "else:\n",
    "    print (\"a is neither less than nor equal to  b\")\n",
    "\n",
    "if ( b >= a ):\n",
    "    print (\"b is either greater than  or equal to b\")\n",
    "else:\n",
    "    print (\"b is neither greater than  nor equal to b\")"
   ]
  },
  {
   "cell_type": "markdown",
   "metadata": {},
   "source": [
    "### 3. Python assignment statements"
   ]
  },
  {
   "cell_type": "code",
   "execution_count": 18,
   "metadata": {},
   "outputs": [
    {
     "name": "stdout",
     "output_type": "stream",
     "text": [
      "31\n",
      "52\n",
      "1092\n",
      "52.0\n",
      "2\n",
      "2097152\n",
      "99864\n"
     ]
    }
   ],
   "source": [
    "a = 21\n",
    "b = 10\n",
    "\n",
    "c = a + b\n",
    "print(c)\n",
    "\n",
    "c += a #c=c+a\n",
    "print(c)\n",
    "\n",
    "c *= a #c=c*a\n",
    "print(c)\n",
    "\n",
    "c /= a \n",
    "print(c)\n",
    "\n",
    "c  = 2\n",
    "c %= a\n",
    "print(c)\n",
    "\n",
    "c **= a\n",
    "print(c)\n",
    "\n",
    "c //= a\n",
    "print(c)"
   ]
  },
  {
   "cell_type": "markdown",
   "metadata": {},
   "source": [
    "### 4. Python bitwise operators"
   ]
  },
  {
   "cell_type": "code",
   "execution_count": 19,
   "metadata": {},
   "outputs": [
    {
     "name": "stdout",
     "output_type": "stream",
     "text": [
      "Line 1 - Value of c is  12\n",
      "Line 2 - Value of c is  61\n",
      "Line 3 - Value of c is  49\n",
      "Line 4 - Value of c is  -61\n",
      "Line 5 - Value of c is  240\n",
      "Line 6 - Value of c is  15\n"
     ]
    }
   ],
   "source": [
    "a = 60            # 60 = 0011 1100 \n",
    "b = 13            # 13 = 0000 1101 \n",
    "\n",
    "c = a & b;        # 12 = 0000 1100\n",
    "print (\"Line 1 - Value of c is \", c)\n",
    "\n",
    "c = a | b;        # 61 = 0011 1101 \n",
    "print (\"Line 2 - Value of c is \", c)\n",
    "\n",
    "c = a ^ b;        # 49 = 0011 0001\n",
    "print (\"Line 3 - Value of c is \", c)\n",
    "\n",
    "c = ~a;           # -61 = 1100 0011--> 2's complement=0011 1101\n",
    "print (\"Line 4 - Value of c is \", c)\n",
    "\n",
    "c = a << 2;       # 240 = 1111 0000\n",
    "print (\"Line 5 - Value of c is \", c)\n",
    "\n",
    "c = a >> 2;       # 15 = 0000 1111\n",
    "print (\"Line 6 - Value of c is \", c)"
   ]
  },
  {
   "cell_type": "markdown",
   "metadata": {},
   "source": [
    "### 5. Python membership operator"
   ]
  },
  {
   "cell_type": "code",
   "execution_count": 20,
   "metadata": {},
   "outputs": [
    {
     "name": "stdout",
     "output_type": "stream",
     "text": [
      "Line 1 - a is available in the given list\n",
      "Line 2 - b is not available in the given list\n"
     ]
    }
   ],
   "source": [
    "a = 1\n",
    "b = 8\n",
    "list = [1, 2, 3, 4, 5 ];\n",
    "\n",
    "if ( a in list ):\n",
    "    print (\"Line 1 - a is available in the given list\")\n",
    "else:\n",
    "    print (\"Line 1 - a is not available in the given list\")\n",
    "\n",
    "if ( b not in list ):\n",
    "    print (\"Line 2 - b is not available in the given list\")\n",
    "else:\n",
    "    print (\"Line 2 - b is available in the given list\")"
   ]
  },
  {
   "cell_type": "markdown",
   "metadata": {},
   "source": [
    "### 6. Python identity operators"
   ]
  },
  {
   "cell_type": "code",
   "execution_count": 21,
   "metadata": {},
   "outputs": [
    {
     "name": "stdout",
     "output_type": "stream",
     "text": [
      "Line 1 - a and b have same identity\n",
      "Line 2 - a and b have same identity\n",
      "Line 3 - a and b do not have same identity\n",
      "Line 4 - a and b do not have same identity\n"
     ]
    }
   ],
   "source": [
    "a = 20\n",
    "b = 20\n",
    "\n",
    "if ( a is b ):\n",
    "    print (\"Line 1 - a and b have same identity\")\n",
    "else:\n",
    "    print (\"Line 1 - a and b do not have same identity\")\n",
    "\n",
    "if ( id(a) == id(b) ):\n",
    "    print (\"Line 2 - a and b have same identity\")\n",
    "else:\n",
    "    print (\"Line 2 - a and b do not have same identity\")\n",
    "\n",
    "b = 30\n",
    "if ( a is b ):\n",
    "    print (\"Line 3 - a and b have same identity\")\n",
    "else:\n",
    "    print (\"Line 3 - a and b do not have same identity\")\n",
    "\n",
    "if ( a is not b ):\n",
    "    print (\"Line 4 - a and b do not have same identity\")\n",
    "else:\n",
    "    print (\"Line 4 - a and b have same identity\")"
   ]
  },
  {
   "cell_type": "markdown",
   "metadata": {},
   "source": [
    "# Decision making"
   ]
  },
  {
   "cell_type": "markdown",
   "metadata": {},
   "source": [
    "### 1. if statement"
   ]
  },
  {
   "cell_type": "code",
   "execution_count": 22,
   "metadata": {},
   "outputs": [
    {
     "name": "stdout",
     "output_type": "stream",
     "text": [
      "number is 10\n"
     ]
    }
   ],
   "source": [
    "num = 10\n",
    "if num==10:\n",
    "    print(\"number is 10\")"
   ]
  },
  {
   "cell_type": "markdown",
   "metadata": {},
   "source": [
    "### 2. if-else statement"
   ]
  },
  {
   "cell_type": "code",
   "execution_count": 23,
   "metadata": {},
   "outputs": [
    {
     "name": "stdout",
     "output_type": "stream",
     "text": [
      "number is not 20\n"
     ]
    }
   ],
   "source": [
    "num = 10\n",
    "if num==20:\n",
    "    print(\"number is 20\")\n",
    "else:\n",
    "    print(\"number is not 20\")"
   ]
  },
  {
   "cell_type": "markdown",
   "metadata": {},
   "source": [
    "### 3. if-elif-else statement"
   ]
  },
  {
   "cell_type": "code",
   "execution_count": 24,
   "metadata": {},
   "outputs": [
    {
     "name": "stdout",
     "output_type": "stream",
     "text": [
      "number is other than 10, 20 and 30\n"
     ]
    }
   ],
   "source": [
    "num=40\n",
    "if num==10:\n",
    "    print(\"number is 10\")\n",
    "elif num==20:\n",
    "    print(\"number is 20\")\n",
    "elif num ==30:\n",
    "    print(\"number is 30\")\n",
    "else:\n",
    "    print(\"number is other than 10, 20 and 30\")"
   ]
  },
  {
   "cell_type": "markdown",
   "metadata": {},
   "source": [
    "### 4. nested if statement"
   ]
  },
  {
   "cell_type": "code",
   "execution_count": 25,
   "metadata": {},
   "outputs": [
    {
     "name": "stdout",
     "output_type": "stream",
     "text": [
      "Expression value is less than 200\n",
      "Value is 100\n",
      "Good bye!\n"
     ]
    }
   ],
   "source": [
    "var = 100\n",
    "if var < 200:\n",
    "    print (\"Expression value is less than 200\")\n",
    "    if var == 150:\n",
    "        print (\"Value is 150\")\n",
    "    elif var == 100:\n",
    "        print (\"Value is 100\")\n",
    "    elif var == 50:\n",
    "        print (\"Value is 50\")\n",
    "    elif var < 50:\n",
    "        print (\"Expression value is less than 50\")\n",
    "else:\n",
    "    print (\"Could not find true expression\")\n",
    "\n",
    "print (\"Good bye!\")"
   ]
  },
  {
   "cell_type": "markdown",
   "metadata": {},
   "source": [
    "# Python loop"
   ]
  },
  {
   "cell_type": "markdown",
   "metadata": {},
   "source": [
    "### 1. while loop"
   ]
  },
  {
   "cell_type": "code",
   "execution_count": 26,
   "metadata": {},
   "outputs": [
    {
     "name": "stdout",
     "output_type": "stream",
     "text": [
      "The count is: 0\n",
      "The count is: 1\n",
      "The count is: 2\n",
      "The count is: 3\n",
      "The count is: 4\n",
      "The count is: 5\n",
      "The count is: 6\n",
      "The count is: 7\n",
      "The count is: 8\n",
      "The count is: 9\n"
     ]
    }
   ],
   "source": [
    "count = 0\n",
    "while (count < 10):\n",
    "    print ('The count is:', count)\n",
    "    count = count + 1"
   ]
  },
  {
   "cell_type": "markdown",
   "metadata": {},
   "source": [
    "### 2. for loop"
   ]
  },
  {
   "cell_type": "code",
   "execution_count": 27,
   "metadata": {},
   "outputs": [
    {
     "name": "stdout",
     "output_type": "stream",
     "text": [
      "Current Letter : P\n",
      "Current Letter : y\n",
      "Current Letter : t\n",
      "Current Letter : h\n",
      "Current Letter : o\n",
      "Current Letter : n\n",
      "Current fruit : banana\n",
      "Current fruit : apple\n",
      "Current fruit : mango\n"
     ]
    }
   ],
   "source": [
    "for letter in 'Python':     # First Example\n",
    "    print ('Current Letter :', letter)\n",
    "\n",
    "fruits = ['banana', 'apple',  'mango']\n",
    "for fruit in fruits:        # Second Example\n",
    "    print ('Current fruit :', fruit)"
   ]
  },
  {
   "cell_type": "markdown",
   "metadata": {},
   "source": [
    "### 3. nested loop"
   ]
  },
  {
   "cell_type": "code",
   "execution_count": 28,
   "metadata": {},
   "outputs": [
    {
     "name": "stdout",
     "output_type": "stream",
     "text": [
      "The number is 0\n",
      "The number is 1\n",
      "The number is 2\n",
      "The number is 3\n",
      "The number is 4\n",
      "The number is 5\n",
      "The number is 6\n",
      "This number 6 is lucky number.\n",
      "The number is 7\n",
      "This number 7 is lucky number.\n",
      "The number is 8\n",
      "The number is 9\n"
     ]
    }
   ],
   "source": [
    "j=0\n",
    "while(j<10):\n",
    "    print(\"The number is\",j)\n",
    "    while(j>5 and j<8):\n",
    "        print(\"This number\",j,\"is lucky number.\")\n",
    "        break\n",
    "    j=j+1\n",
    "    "
   ]
  },
  {
   "cell_type": "markdown",
   "metadata": {},
   "source": [
    "# Loop control statements"
   ]
  },
  {
   "cell_type": "markdown",
   "metadata": {},
   "source": [
    "### 1. break statement"
   ]
  },
  {
   "cell_type": "code",
   "execution_count": 29,
   "metadata": {},
   "outputs": [
    {
     "name": "stdout",
     "output_type": "stream",
     "text": [
      "The number is  0\n",
      "The number is  1\n",
      "The number is  2\n",
      "The number is  3\n",
      "The number is  4\n",
      "The number is  5\n",
      "The number is  6\n",
      "The number is  7\n",
      "The number is  8\n",
      "The number is  9\n",
      "The number is  10\n"
     ]
    }
   ],
   "source": [
    "i=0\n",
    "while(i<100000000000):\n",
    "    print(\"The number is \",i)\n",
    "    if(i==10):\n",
    "        break\n",
    "    i=i+1"
   ]
  },
  {
   "cell_type": "markdown",
   "metadata": {},
   "source": [
    "### 2. continue statement"
   ]
  },
  {
   "cell_type": "code",
   "execution_count": 30,
   "metadata": {},
   "outputs": [
    {
     "name": "stdout",
     "output_type": "stream",
     "text": [
      "The number is  1\n",
      "The number is  2\n",
      "The number is  3\n",
      "The number is  4\n",
      "The number is  5\n",
      "The number is  6\n",
      "The number is  7\n",
      "The number is  8\n",
      "The number is  9\n",
      "The number is  11\n",
      "The number is  12\n",
      "The number is  13\n",
      "The number is  14\n",
      "The number is  15\n",
      "The number is  16\n",
      "The number is  17\n",
      "The number is  18\n",
      "The number is  19\n",
      "The number is  21\n",
      "The number is  22\n",
      "The number is  23\n",
      "The number is  24\n",
      "The number is  25\n",
      "The number is  26\n",
      "The number is  27\n",
      "The number is  28\n",
      "The number is  29\n"
     ]
    }
   ],
   "source": [
    "i=0\n",
    "while(i<30):\n",
    "    i=i+1\n",
    "    if(i==10):\n",
    "        continue\n",
    "    if(i==20):\n",
    "        continue\n",
    "    if(i==30):\n",
    "        continue\n",
    "    print(\"The number is \",i)"
   ]
  },
  {
   "cell_type": "markdown",
   "metadata": {},
   "source": [
    "### 3. pass statement"
   ]
  },
  {
   "cell_type": "code",
   "execution_count": 31,
   "metadata": {},
   "outputs": [
    {
     "name": "stdout",
     "output_type": "stream",
     "text": [
      "Current Letter : P\n",
      "Current Letter : y\n",
      "Current Letter : t\n",
      "This is pass block\n",
      "Current Letter : h\n",
      "Current Letter : o\n",
      "Current Letter : n\n"
     ]
    }
   ],
   "source": [
    "for letter in 'Python': \n",
    "    if letter == 'h':\n",
    "        pass\n",
    "        print ('This is pass block')\n",
    "    print ('Current Letter :', letter)"
   ]
  },
  {
   "cell_type": "markdown",
   "metadata": {},
   "source": [
    "# Python date and time"
   ]
  },
  {
   "cell_type": "markdown",
   "metadata": {},
   "source": [
    "## ticks"
   ]
  },
  {
   "cell_type": "code",
   "execution_count": 32,
   "metadata": {},
   "outputs": [
    {
     "name": "stdout",
     "output_type": "stream",
     "text": [
      "Number of ticks since 12:00am, January 1, 1970: 1581764979.4881856\n"
     ]
    }
   ],
   "source": [
    "import time;  # This is required to include time module.\n",
    "\n",
    "ticks = time.time()\n",
    "print (\"Number of ticks since 12:00am, January 1, 1970:\", ticks)"
   ]
  },
  {
   "cell_type": "markdown",
   "metadata": {},
   "source": [
    "## Getting current time"
   ]
  },
  {
   "cell_type": "code",
   "execution_count": 33,
   "metadata": {},
   "outputs": [
    {
     "name": "stdout",
     "output_type": "stream",
     "text": [
      "Local current time : time.struct_time(tm_year=2020, tm_mon=2, tm_mday=15, tm_hour=16, tm_min=54, tm_sec=39, tm_wday=5, tm_yday=46, tm_isdst=0)\n"
     ]
    }
   ],
   "source": [
    "localtime = time.localtime(time.time())\n",
    "print (\"Local current time :\", localtime)"
   ]
  },
  {
   "cell_type": "markdown",
   "metadata": {},
   "source": [
    "## Getting formatted time"
   ]
  },
  {
   "cell_type": "code",
   "execution_count": 34,
   "metadata": {},
   "outputs": [
    {
     "name": "stdout",
     "output_type": "stream",
     "text": [
      "Local current time : Sat Feb 15 16:54:40 2020\n"
     ]
    }
   ],
   "source": [
    "localtime = time.asctime( time.localtime(time.time()) )\n",
    "print (\"Local current time :\", localtime)"
   ]
  },
  {
   "cell_type": "markdown",
   "metadata": {},
   "source": [
    "## Getting calender for a month"
   ]
  },
  {
   "cell_type": "code",
   "execution_count": 35,
   "metadata": {},
   "outputs": [
    {
     "name": "stdout",
     "output_type": "stream",
     "text": [
      "Calendar:\n",
      "   February 2020\n",
      "Mo Tu We Th Fr Sa Su\n",
      "                1  2\n",
      " 3  4  5  6  7  8  9\n",
      "10 11 12 13 14 15 16\n",
      "17 18 19 20 21 22 23\n",
      "24 25 26 27 28 29\n",
      "\n"
     ]
    }
   ],
   "source": [
    "import calendar\n",
    "cal = calendar.month(2020, 2) # 2 means february\n",
    "print (\"Calendar:\")\n",
    "print(cal)"
   ]
  },
  {
   "cell_type": "markdown",
   "metadata": {},
   "source": [
    "## Sleep() method"
   ]
  },
  {
   "cell_type": "code",
   "execution_count": 36,
   "metadata": {},
   "outputs": [
    {
     "name": "stdout",
     "output_type": "stream",
     "text": [
      "Start : Sat Feb 15 16:54:40 2020\n",
      "End : Sat Feb 15 16:54:45 2020\n"
     ]
    }
   ],
   "source": [
    "print (\"Start : %s\" % time.ctime())\n",
    "time.sleep( 5 )\n",
    "print (\"End : %s\" % time.ctime())"
   ]
  },
  {
   "cell_type": "markdown",
   "metadata": {},
   "source": [
    "# Python - Functions"
   ]
  },
  {
   "cell_type": "code",
   "execution_count": 37,
   "metadata": {},
   "outputs": [
    {
     "name": "stdout",
     "output_type": "stream",
     "text": [
      "My name is Ishwar Gautam\n",
      "I love programming\n"
     ]
    }
   ],
   "source": [
    "def func( string ):\n",
    "    print (string)\n",
    "    \n",
    "# calling a function\n",
    "func(\"My name is Ishwar Gautam\")\n",
    "func(\"I love programming\")"
   ]
  },
  {
   "cell_type": "code",
   "execution_count": 38,
   "metadata": {},
   "outputs": [
    {
     "name": "stdout",
     "output_type": "stream",
     "text": [
      "Values inside the function:  [10, 20, 30, [1, 2, 3, 4]]\n",
      "Values outside the function:  [10, 20, 30, [1, 2, 3, 4]]\n"
     ]
    }
   ],
   "source": [
    "def func1( mylist ):\n",
    "    mylist.append([1,2,3,4])\n",
    "    print (\"Values inside the function: \", mylist)\n",
    "    return\n",
    "\n",
    "mylist = [10,20,30]\n",
    "func1( mylist )\n",
    "print (\"Values outside the function: \", mylist)"
   ]
  },
  {
   "cell_type": "code",
   "execution_count": 39,
   "metadata": {},
   "outputs": [
    {
     "name": "stdout",
     "output_type": "stream",
     "text": [
      "Values inside the function:  [1, 2, 3, 4]\n",
      "Values outside the function:  [10, 20, 30]\n"
     ]
    }
   ],
   "source": [
    "def func2( mylist ):\n",
    "    mylist= [1,2,3,4]\n",
    "    print (\"Values inside the function: \", mylist)\n",
    "    return\n",
    "\n",
    "mylist = [10,20,30]\n",
    "func2( mylist )\n",
    "print (\"Values outside the function: \", mylist)"
   ]
  },
  {
   "cell_type": "code",
   "execution_count": 40,
   "metadata": {},
   "outputs": [
    {
     "name": "stdout",
     "output_type": "stream",
     "text": [
      "Ishwar Gautam\n"
     ]
    }
   ],
   "source": [
    "def func3( str ):\n",
    "    print (str)\n",
    "    return\n",
    "\n",
    "func3( str = \"Ishwar Gautam\")"
   ]
  },
  {
   "cell_type": "code",
   "execution_count": 41,
   "metadata": {},
   "outputs": [
    {
     "name": "stdout",
     "output_type": "stream",
     "text": [
      "Name:  Ishwar\n",
      "Age:  22\n"
     ]
    }
   ],
   "source": [
    "def func4( name, age ):\n",
    "    print (\"Name: \", name)\n",
    "    print (\"Age: \", age)\n",
    "    return\n",
    "\n",
    "func4(age=22, name=\"Ishwar\")"
   ]
  },
  {
   "cell_type": "code",
   "execution_count": 42,
   "metadata": {},
   "outputs": [
    {
     "name": "stdout",
     "output_type": "stream",
     "text": [
      "Name:  Ishwar\n",
      "Age:  22\n",
      "Name:  IG\n",
      "Age:  25\n"
     ]
    }
   ],
   "source": [
    "def func4( name, age=25 ):\n",
    "    print (\"Name: \", name)\n",
    "    print (\"Age: \", age)\n",
    "    return\n",
    "func4( age=22, name=\"Ishwar\" )\n",
    "func4( name=\"IG\" )"
   ]
  },
  {
   "cell_type": "markdown",
   "metadata": {},
   "source": [
    "### Variable length arguments"
   ]
  },
  {
   "cell_type": "code",
   "execution_count": 43,
   "metadata": {},
   "outputs": [
    {
     "name": "stdout",
     "output_type": "stream",
     "text": [
      "Output is: \n",
      "arg1= 10\n",
      "Output is: \n",
      "arg1= 70\n",
      "var= 60\n",
      "var= 50\n"
     ]
    }
   ],
   "source": [
    "def func5( arg1, *vartuple ):\n",
    "    print (\"Output is: \")\n",
    "    print (\"arg1=\",arg1)\n",
    "    for var in vartuple:\n",
    "        print (\"var=\",var)\n",
    "    return\n",
    "\n",
    "func5(10)\n",
    "func5(70, 60, 50)"
   ]
  },
  {
   "cell_type": "markdown",
   "metadata": {},
   "source": [
    "## Anonymous functions (use of lambda)"
   ]
  },
  {
   "cell_type": "code",
   "execution_count": 44,
   "metadata": {},
   "outputs": [
    {
     "name": "stdout",
     "output_type": "stream",
     "text": [
      "Value of total :  30\n",
      "Value of total :  40\n"
     ]
    }
   ],
   "source": [
    "sum = lambda arg1, arg2: arg1 + arg2;\n",
    "\n",
    "# Now we can call sum as a function\n",
    "print (\"Value of total : \", sum( 10, 20 ))\n",
    "print (\"Value of total : \", sum( 20, 20 ))"
   ]
  },
  {
   "cell_type": "markdown",
   "metadata": {},
   "source": [
    "## return statement"
   ]
  },
  {
   "cell_type": "code",
   "execution_count": 45,
   "metadata": {},
   "outputs": [
    {
     "name": "stdout",
     "output_type": "stream",
     "text": [
      "Inside the function :  50\n",
      "Outside the function :  50\n"
     ]
    }
   ],
   "source": [
    "def sum( arg1, arg2 ):\n",
    "    # Add both the parameters and return them\"\n",
    "    total = arg1 + arg2\n",
    "    print (\"Inside the function : \", total)\n",
    "    return total\n",
    "\n",
    "# Now you can call sum function\n",
    "total = sum( 30, 20 )\n",
    "print (\"Outside the function : \", total)"
   ]
  },
  {
   "cell_type": "markdown",
   "metadata": {},
   "source": [
    "## Global vs local variable"
   ]
  },
  {
   "cell_type": "code",
   "execution_count": 46,
   "metadata": {},
   "outputs": [
    {
     "name": "stdout",
     "output_type": "stream",
     "text": [
      "Inside the function--> local total :  100\n",
      "Outside the function--> global total :  0\n"
     ]
    }
   ],
   "source": [
    "total = 0 # This is global variable.\n",
    "\n",
    "def sum( arg1, arg2 ):\n",
    "   # Add both the parameters and return them\"\n",
    "    total = arg1 + arg2; # Here total is local variable.\n",
    "    print (\"Inside the function--> local total : \", total)\n",
    "    return total\n",
    "\n",
    "# Now you can call sum function\n",
    "sum( 80, 20 )\n",
    "print (\"Outside the function--> global total : \", total) "
   ]
  },
  {
   "cell_type": "markdown",
   "metadata": {},
   "source": [
    "# Python modules"
   ]
  },
  {
   "cell_type": "code",
   "execution_count": 47,
   "metadata": {},
   "outputs": [],
   "source": [
    "#The import statement\n",
    "import time\n",
    "import os\n",
    "import sys\n",
    "import math\n",
    "\n",
    "#from fib import fibonacci  (e.g.)\n",
    "#reload(module_name)"
   ]
  },
  {
   "cell_type": "markdown",
   "metadata": {},
   "source": [
    "# Python - Files I/O"
   ]
  },
  {
   "cell_type": "code",
   "execution_count": 48,
   "metadata": {},
   "outputs": [
    {
     "name": "stdout",
     "output_type": "stream",
     "text": [
      "Enter your name: Ishwar\n",
      "Your name is :  Ishwar\n"
     ]
    }
   ],
   "source": [
    "string = input(\"Enter your name: \")\n",
    "print (\"Your name is : \", string)"
   ]
  },
  {
   "cell_type": "markdown",
   "metadata": {},
   "source": [
    "### Opening and closing a file"
   ]
  },
  {
   "cell_type": "code",
   "execution_count": 49,
   "metadata": {},
   "outputs": [
    {
     "name": "stdout",
     "output_type": "stream",
     "text": [
      "Name of the file:  mytext.txt\n",
      "Closed or not :  False\n",
      "Opening mode :  wb\n",
      "Closed or not :  True\n"
     ]
    }
   ],
   "source": [
    "# Open a file\n",
    "file = open(\"mytext.txt\", \"wb\")\n",
    "print (\"Name of the file: \", file.name)\n",
    "print (\"Closed or not : \", file.closed)\n",
    "print (\"Opening mode : \", file.mode)\n",
    "\n",
    "#close a file\n",
    "file.close()\n",
    "print (\"Closed or not : \", file.closed)"
   ]
  },
  {
   "cell_type": "markdown",
   "metadata": {},
   "source": [
    "### The Write() method"
   ]
  },
  {
   "cell_type": "code",
   "execution_count": 50,
   "metadata": {},
   "outputs": [],
   "source": [
    "# Open a file\n",
    "file = open(\"mytext.txt\", \"w\")\n",
    "file.write( \"My name is Ishwar Gautam. \\n I love programming....\")\n",
    "\n",
    "# Closing opened file\n",
    "file.close()"
   ]
  },
  {
   "cell_type": "markdown",
   "metadata": {},
   "source": [
    "### The read() method"
   ]
  },
  {
   "cell_type": "code",
   "execution_count": 51,
   "metadata": {},
   "outputs": [
    {
     "name": "stdout",
     "output_type": "stream",
     "text": [
      "Read String is :  My name is\n"
     ]
    }
   ],
   "source": [
    "# Open a file\n",
    "file = open(\"mytext.txt\", \"r+\")\n",
    "string = file.read(10)\n",
    "print (\"Read String is : \", string)\n",
    "\n",
    "# Closing opened file\n",
    "file.close()"
   ]
  },
  {
   "cell_type": "markdown",
   "metadata": {},
   "source": [
    "### File position"
   ]
  },
  {
   "cell_type": "code",
   "execution_count": 52,
   "metadata": {},
   "outputs": [
    {
     "name": "stdout",
     "output_type": "stream",
     "text": [
      "Read String is :  My name is\n",
      "Current file position :  10\n",
      "Again read String is :  My name is\n"
     ]
    }
   ],
   "source": [
    "# Open a file\n",
    "file = open(\"mytext.txt\", \"r+\")\n",
    "string = file.read(10)\n",
    "print (\"Read String is : \", string)\n",
    "\n",
    "# Check current position\n",
    "position = file.tell()\n",
    "print (\"Current file position : \", position)\n",
    "\n",
    "# Reposition pointer at the beginning once again\n",
    "position = file.seek(0, 0);\n",
    "string = file.read(10)\n",
    "print (\"Again read String is : \", string)\n",
    "\n",
    "# Closing opened file\n",
    "file.close()"
   ]
  },
  {
   "cell_type": "markdown",
   "metadata": {},
   "source": [
    "### The rename() method"
   ]
  },
  {
   "cell_type": "code",
   "execution_count": 53,
   "metadata": {},
   "outputs": [],
   "source": [
    "import os\n",
    "\n",
    "# Rename a file\n",
    "os.rename( \"mytext.txt\", \"myfile.txt\" )"
   ]
  },
  {
   "cell_type": "markdown",
   "metadata": {},
   "source": [
    "### The remove() method"
   ]
  },
  {
   "cell_type": "code",
   "execution_count": 54,
   "metadata": {},
   "outputs": [],
   "source": [
    "os.remove(\"myfile.txt\")"
   ]
  },
  {
   "cell_type": "markdown",
   "metadata": {},
   "source": [
    "### Directories in python"
   ]
  },
  {
   "cell_type": "code",
   "execution_count": 55,
   "metadata": {},
   "outputs": [],
   "source": [
    "# Create a directory \n",
    "#os.mkdir(\"my folder\")"
   ]
  },
  {
   "cell_type": "code",
   "execution_count": 56,
   "metadata": {},
   "outputs": [],
   "source": [
    "# Changing a directory\n",
    "#os.chdir(\"E:/DS and ML/Three month online mentorship/my folder/test\")"
   ]
  },
  {
   "cell_type": "markdown",
   "metadata": {},
   "source": [
    "# Python Exceptions"
   ]
  },
  {
   "cell_type": "code",
   "execution_count": 57,
   "metadata": {},
   "outputs": [
    {
     "name": "stdout",
     "output_type": "stream",
     "text": [
      "Written content in the file successfully\n"
     ]
    }
   ],
   "source": [
    "os.chdir(\"E:/DS and ML/Three month online mentorship\")\n",
    "try:\n",
    "    file = open(\"testfile\", \"w\")\n",
    "    file.write(\"This is my test file for exception handling!!\")\n",
    "except IOError:\n",
    "    print (\"Error: can\\'t find file or read data\")\n",
    "else:\n",
    "    print (\"Written content in the file successfully\")\n",
    "    file.close()"
   ]
  },
  {
   "cell_type": "code",
   "execution_count": 58,
   "metadata": {},
   "outputs": [],
   "source": [
    "try:\n",
    "    file = open(\"testfile.txt\", \"w\")\n",
    "    file.write(\"This is my test file for exception handling!!\")\n",
    "finally:\n",
    "    file.close()"
   ]
  },
  {
   "cell_type": "code",
   "execution_count": 59,
   "metadata": {},
   "outputs": [
    {
     "name": "stdout",
     "output_type": "stream",
     "text": [
      "Going to close the file\n"
     ]
    }
   ],
   "source": [
    "try:\n",
    "    file = open(\"testfile\", \"w\")\n",
    "    try:\n",
    "        file.write(\"This is my test file for exception handling!!\")\n",
    "    finally:\n",
    "        print (\"Going to close the file\")\n",
    "        file.close()\n",
    "except IOError:\n",
    "    print (\"Error: can\\'t find file or read data\")"
   ]
  },
  {
   "cell_type": "code",
   "execution_count": 60,
   "metadata": {},
   "outputs": [
    {
     "name": "stdout",
     "output_type": "stream",
     "text": [
      "1\n",
      "2\n",
      "3\n",
      "4\n",
      "5\n",
      "0\n",
      "0\n",
      "0\n"
     ]
    }
   ],
   "source": [
    "def do_stuff_with_number(n):\n",
    "    print(n)\n",
    "\n",
    "def catch_this():\n",
    "    the_list = (1, 2, 3, 4, 5)\n",
    "\n",
    "    for i in range(8):\n",
    "        try:\n",
    "            do_stuff_with_number(the_list[i])\n",
    "        except IndexError: # Raised when accessing a non-existing index of a list\n",
    "            do_stuff_with_number(0)\n",
    "\n",
    "catch_this()"
   ]
  },
  {
   "cell_type": "markdown",
   "metadata": {},
   "source": [
    "# int() function"
   ]
  },
  {
   "cell_type": "code",
   "execution_count": 61,
   "metadata": {},
   "outputs": [
    {
     "name": "stdout",
     "output_type": "stream",
     "text": [
      "Enter first number: 55\n",
      "Enter second number: 10\n",
      "total is 65\n"
     ]
    }
   ],
   "source": [
    "num1 = int (input(\"Enter first number: \"))\n",
    "num2 = int (input(\"Enter second number: \"))\n",
    "total = num1 + num2\n",
    "print(\"total is \"+str(total))"
   ]
  },
  {
   "cell_type": "markdown",
   "metadata": {},
   "source": [
    "# More than one input in one line:"
   ]
  },
  {
   "cell_type": "code",
   "execution_count": 62,
   "metadata": {},
   "outputs": [
    {
     "name": "stdout",
     "output_type": "stream",
     "text": [
      "enter your name and age: Ishwar 22\n"
     ]
    }
   ],
   "source": [
    "name, age = input(\"enter your name and age: \").split()"
   ]
  },
  {
   "cell_type": "code",
   "execution_count": 63,
   "metadata": {},
   "outputs": [
    {
     "name": "stdout",
     "output_type": "stream",
     "text": [
      "enter your name and age: Ishwar,22\n"
     ]
    }
   ],
   "source": [
    "name, age = input(\"enter your name and age: \").split(\",\")"
   ]
  },
  {
   "cell_type": "markdown",
   "metadata": {},
   "source": [
    "# String formatting"
   ]
  },
  {
   "cell_type": "code",
   "execution_count": 64,
   "metadata": {},
   "outputs": [
    {
     "name": "stdout",
     "output_type": "stream",
     "text": [
      "hello Ishwar, your age is 22\n"
     ]
    }
   ],
   "source": [
    "print(\"hello {}, your age is {}\".format(name,age))"
   ]
  },
  {
   "cell_type": "code",
   "execution_count": 65,
   "metadata": {},
   "outputs": [
    {
     "name": "stdout",
     "output_type": "stream",
     "text": [
      "hello Ishwar, your age is 22\n"
     ]
    }
   ],
   "source": [
    "print(f\"hello {name}, your age is {age}\")"
   ]
  },
  {
   "cell_type": "markdown",
   "metadata": {},
   "source": [
    "# Basic string operation"
   ]
  },
  {
   "cell_type": "code",
   "execution_count": 66,
   "metadata": {},
   "outputs": [
    {
     "name": "stdout",
     "output_type": "stream",
     "text": [
      "13\n",
      "5\n",
      "3\n",
      "hwa\n",
      "haGua\n",
      "matuaGrawhsI\n",
      "Gaut\n",
      "ISHWARGAUTAM\n",
      "ishwargautam\n",
      "False\n",
      "True\n",
      "['Ishwar', 'Gautam']\n",
      "Ishwar_Gautam\n",
      "Ishwar Gautam\n",
      "3\n",
      "-1\n"
     ]
    }
   ],
   "source": [
    "str1 = \"Ishwar Gautam\"\n",
    "str2 = 'IshwarGautam'\n",
    "print(len(str1))\n",
    "print(str1.index(\"r\"))\n",
    "print(str1.count(\"a\"))\n",
    "print(str1[2:5]) #start_index:end_index\n",
    "print(str2[2:11:2]) #step argument is included\n",
    "print(str2[::-1]) #string reverse\n",
    "print(str2[-6:10]) #output:Gaut\n",
    "print(str2.upper())\n",
    "print(str2.lower())\n",
    "print(str2.startswith(\"hello\")) #return boolean value\n",
    "print(str2.endswith(\"am\"))\n",
    "print(str1.split()) #return value inside list\n",
    "print(str1.replace(\" \",\"_\"))\n",
    "print(str1) #original string does not get changed\n",
    "print(str1.find(\"war\"))\n",
    "print(str1.find(\"war\", 4)) #second argument is the starting position to search"
   ]
  },
  {
   "cell_type": "markdown",
   "metadata": {},
   "source": [
    "# List comprehension"
   ]
  },
  {
   "cell_type": "code",
   "execution_count": 67,
   "metadata": {},
   "outputs": [
    {
     "data": {
      "text/plain": [
       "[1, 4, 9, 16, 25, 36, 49, 64, 81, 100]"
      ]
     },
     "execution_count": 67,
     "metadata": {},
     "output_type": "execute_result"
    }
   ],
   "source": [
    "square = [i**2 for i in range (1,11)]\n",
    "square"
   ]
  },
  {
   "cell_type": "code",
   "execution_count": 68,
   "metadata": {},
   "outputs": [
    {
     "data": {
      "text/plain": [
       "[1, 3, 5, 7, 9]"
      ]
     },
     "execution_count": 68,
     "metadata": {},
     "output_type": "execute_result"
    }
   ],
   "source": [
    "odd_nums = [i for i in range(1,11) if i%2!=0]\n",
    "odd_nums"
   ]
  },
  {
   "cell_type": "code",
   "execution_count": 69,
   "metadata": {},
   "outputs": [
    {
     "data": {
      "text/plain": [
       "[-1, 4, -3, 8, -5, 12, -7, 16, -9, 20]"
      ]
     },
     "execution_count": 69,
     "metadata": {},
     "output_type": "execute_result"
    }
   ],
   "source": [
    "new_list = [i*2 if (i%2==0) else -i for i in range(1,11)]\n",
    "new_list"
   ]
  },
  {
   "cell_type": "code",
   "execution_count": 70,
   "metadata": {},
   "outputs": [
    {
     "data": {
      "text/plain": [
       "[[1, 2, 3], [1, 2, 3], [1, 2, 3]]"
      ]
     },
     "execution_count": 70,
     "metadata": {},
     "output_type": "execute_result"
    }
   ],
   "source": [
    "list_inside_list = [[i for i in range(1,4)] for j in range (3)]\n",
    "list_inside_list"
   ]
  },
  {
   "cell_type": "code",
   "execution_count": 71,
   "metadata": {},
   "outputs": [
    {
     "name": "stdout",
     "output_type": "stream",
     "text": [
      "['the', 'quick', 'brown', 'fox', 'jumps', 'over', 'the', 'lazy', 'dog']\n",
      "[5, 5, 3, 5, 4, 4, 3]\n"
     ]
    }
   ],
   "source": [
    "# without using list comprehension\n",
    "sentence = \"the quick brown fox jumps over the lazy dog\"\n",
    "words = sentence.split()\n",
    "word_lengths = []\n",
    "for word in words:\n",
    "    if word != \"the\":\n",
    "        word_lengths.append(len(word))\n",
    "print(words)\n",
    "print(word_lengths)"
   ]
  },
  {
   "cell_type": "code",
   "execution_count": 72,
   "metadata": {},
   "outputs": [
    {
     "name": "stdout",
     "output_type": "stream",
     "text": [
      "['the', 'quick', 'brown', 'fox', 'jumps', 'over', 'the', 'lazy', 'dog']\n",
      "[5, 5, 3, 5, 4, 4, 3]\n"
     ]
    }
   ],
   "source": [
    "# with list comprehension\n",
    "sentence = \"the quick brown fox jumps over the lazy dog\"\n",
    "words = sentence.split()\n",
    "word_lengths = [len(word) for word in words if word != \"the\"]\n",
    "print(words)\n",
    "print(word_lengths)"
   ]
  },
  {
   "cell_type": "markdown",
   "metadata": {},
   "source": [
    "# Dictionary comprehension"
   ]
  },
  {
   "cell_type": "code",
   "execution_count": 73,
   "metadata": {},
   "outputs": [
    {
     "data": {
      "text/plain": [
       "{1: 1, 2: 4, 3: 9}"
      ]
     },
     "execution_count": 73,
     "metadata": {},
     "output_type": "execute_result"
    }
   ],
   "source": [
    "square = {num:num**2 for num in range(1,4)}\n",
    "square"
   ]
  },
  {
   "cell_type": "code",
   "execution_count": 74,
   "metadata": {},
   "outputs": [
    {
     "data": {
      "text/plain": [
       "{1: 'odd',\n",
       " 2: 'even',\n",
       " 3: 'odd',\n",
       " 4: 'even',\n",
       " 5: 'odd',\n",
       " 6: 'even',\n",
       " 7: 'odd',\n",
       " 8: 'even',\n",
       " 9: 'odd',\n",
       " 10: 'even'}"
      ]
     },
     "execution_count": 74,
     "metadata": {},
     "output_type": "execute_result"
    }
   ],
   "source": [
    "odd_even = {i:('even' if i%2==0 else 'odd') for i in range (1,11)}\n",
    "odd_even"
   ]
  },
  {
   "cell_type": "markdown",
   "metadata": {},
   "source": [
    "# Sets comprehension"
   ]
  },
  {
   "cell_type": "code",
   "execution_count": 75,
   "metadata": {},
   "outputs": [
    {
     "data": {
      "text/plain": [
       "{1, 4, 9, 16, 25, 36, 49, 64, 81, 100}"
      ]
     },
     "execution_count": 75,
     "metadata": {},
     "output_type": "execute_result"
    }
   ],
   "source": [
    "s = {k**2 for k in range (1,11)}\n",
    "s"
   ]
  },
  {
   "cell_type": "markdown",
   "metadata": {},
   "source": [
    "# List vs set"
   ]
  },
  {
   "cell_type": "code",
   "execution_count": 76,
   "metadata": {},
   "outputs": [
    {
     "name": "stdout",
     "output_type": "stream",
     "text": [
      "[3, 2, 5, 7, 6, 3, 5]\n",
      "{2, 3, 5, 6, 7}\n",
      "So in list, there are repeated element while in set, there are unique element\n"
     ]
    }
   ],
   "source": [
    "lst = [3,2,5,7,6,3,5]\n",
    "print(lst)\n",
    "st = set(lst)\n",
    "print(st)\n",
    "print(\"So in list, there are repeated element while in set, there are unique element\")"
   ]
  },
  {
   "cell_type": "markdown",
   "metadata": {},
   "source": [
    "# Classes and objects"
   ]
  },
  {
   "cell_type": "code",
   "execution_count": 77,
   "metadata": {},
   "outputs": [
    {
     "name": "stdout",
     "output_type": "stream",
     "text": [
      "Ishwar\n",
      "This is a message inside the class.\n",
      "None\n"
     ]
    }
   ],
   "source": [
    "class MyClass:\n",
    "    variable = \"Ishwar\"\n",
    "\n",
    "    def function(self):\n",
    "        print(\"This is a message inside the class.\")\n",
    "        \n",
    "#creating object\n",
    "myobject = MyClass()\n",
    "\n",
    "#accessig object variables\n",
    "print(myobject.variable)\n",
    "\n",
    "#accessing object funtion\n",
    "print(myobject.function())"
   ]
  },
  {
   "cell_type": "code",
   "execution_count": 78,
   "metadata": {},
   "outputs": [
    {
     "name": "stdout",
     "output_type": "stream",
     "text": [
      "init method called\n",
      "init method called\n",
      "Ishwar\n",
      "Bijay\n"
     ]
    }
   ],
   "source": [
    "class person:\n",
    "    def __init__(self, first_name, last_name, age):\n",
    "        print(\"init method called\")\n",
    "        self.first_name = first_name\n",
    "        self.last_name  = last_name\n",
    "        self.age = age\n",
    "p1 = person(\"Ishwar\",\"Gautam\",22)\n",
    "p2 = person(\"Bijay\",\"Gautam\",24)\n",
    "print(p1.first_name)\n",
    "print(p2.first_name)"
   ]
  },
  {
   "cell_type": "code",
   "execution_count": null,
   "metadata": {},
   "outputs": [],
   "source": []
  }
 ],
 "metadata": {
  "kernelspec": {
   "display_name": "Python 3",
   "language": "python",
   "name": "python3"
  },
  "language_info": {
   "codemirror_mode": {
    "name": "ipython",
    "version": 3
   },
   "file_extension": ".py",
   "mimetype": "text/x-python",
   "name": "python",
   "nbconvert_exporter": "python",
   "pygments_lexer": "ipython3",
   "version": "3.7.4"
  }
 },
 "nbformat": 4,
 "nbformat_minor": 2
}
